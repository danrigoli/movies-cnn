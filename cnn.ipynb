{
 "cells": [
  {
   "cell_type": "code",
   "execution_count": 160,
   "metadata": {},
   "outputs": [],
   "source": [
    "import pandas as pd\n",
    "import numpy as np\n",
    "import tensorflow as tf\n",
    "from tensorflow.python import keras\n",
    "from keras import layers\n",
    "from keras.layers.experimental.preprocessing import TextVectorization\n",
    "import sklearn as sk\n",
    "from sklearn.model_selection import train_test_split\n",
    "from sklearn.preprocessing import LabelEncoder, MinMaxScaler"
   ]
  },
  {
   "cell_type": "code",
   "execution_count": 161,
   "metadata": {},
   "outputs": [],
   "source": [
    "# Load the movies CSV file\n",
    "df = pd.read_csv('inputs/imdb_movies.csv')\n",
    "df['crew'] = df['crew'].str.split(',').str[0]\n",
    "# Extract the relevant features and target variable\n",
    "features = df[['genre', 'orig_lang', 'budget_x', 'country']]\n",
    "target = df['score']"
   ]
  },
  {
   "cell_type": "code",
   "execution_count": 162,
   "metadata": {},
   "outputs": [
    {
     "name": "stderr",
     "output_type": "stream",
     "text": [
      "/var/folders/zk/0yzb9y8s6z71smfld5fjvdjh0000gn/T/ipykernel_99187/2914112232.py:5: SettingWithCopyWarning: \n",
      "A value is trying to be set on a copy of a slice from a DataFrame.\n",
      "Try using .loc[row_indexer,col_indexer] = value instead\n",
      "\n",
      "See the caveats in the documentation: https://pandas.pydata.org/pandas-docs/stable/user_guide/indexing.html#returning-a-view-versus-a-copy\n",
      "  features['genre'] = encoder.fit_transform(features['genre'])\n",
      "/var/folders/zk/0yzb9y8s6z71smfld5fjvdjh0000gn/T/ipykernel_99187/2914112232.py:6: SettingWithCopyWarning: \n",
      "A value is trying to be set on a copy of a slice from a DataFrame.\n",
      "Try using .loc[row_indexer,col_indexer] = value instead\n",
      "\n",
      "See the caveats in the documentation: https://pandas.pydata.org/pandas-docs/stable/user_guide/indexing.html#returning-a-view-versus-a-copy\n",
      "  features['orig_lang'] = encoder.fit_transform(features['orig_lang'])\n",
      "/var/folders/zk/0yzb9y8s6z71smfld5fjvdjh0000gn/T/ipykernel_99187/2914112232.py:7: SettingWithCopyWarning: \n",
      "A value is trying to be set on a copy of a slice from a DataFrame.\n",
      "Try using .loc[row_indexer,col_indexer] = value instead\n",
      "\n",
      "See the caveats in the documentation: https://pandas.pydata.org/pandas-docs/stable/user_guide/indexing.html#returning-a-view-versus-a-copy\n",
      "  features['country'] = encoder.fit_transform(features['country'])\n"
     ]
    }
   ],
   "source": [
    "# Perform preprocessing steps for each feature\n",
    "\n",
    "# 1. Encode categorical features\n",
    "encoder = LabelEncoder()\n",
    "features['genre'] = encoder.fit_transform(features['genre'])\n",
    "features['orig_lang'] = encoder.fit_transform(features['orig_lang'])\n",
    "features['country'] = encoder.fit_transform(features['country'])"
   ]
  },
  {
   "cell_type": "code",
   "execution_count": 163,
   "metadata": {},
   "outputs": [
    {
     "name": "stderr",
     "output_type": "stream",
     "text": [
      "/var/folders/zk/0yzb9y8s6z71smfld5fjvdjh0000gn/T/ipykernel_99187/1876915250.py:2: SettingWithCopyWarning: \n",
      "A value is trying to be set on a copy of a slice from a DataFrame\n",
      "\n",
      "See the caveats in the documentation: https://pandas.pydata.org/pandas-docs/stable/user_guide/indexing.html#returning-a-view-versus-a-copy\n",
      "  features.fillna(value=0, inplace=True)  # Replace missing values with 0\n"
     ]
    }
   ],
   "source": [
    "# 2. Handle missing values\n",
    "features.fillna(value=0, inplace=True)  # Replace missing values with 0"
   ]
  },
  {
   "cell_type": "code",
   "execution_count": 164,
   "metadata": {},
   "outputs": [],
   "source": [
    "# 3. Scale numerical features using Min-Max scaling\n",
    "scaler = MinMaxScaler()\n",
    "features_scaled = scaler.fit_transform(features)"
   ]
  },
  {
   "cell_type": "code",
   "execution_count": 165,
   "metadata": {},
   "outputs": [],
   "source": [
    "# 4. Convert text data to numerical data\n",
    "\n",
    "# Convert 'crew' column to a Pandas Series\n",
    "crew_series = df['crew'].fillna('')\n",
    "\n",
    "# Preprocess text data\n",
    "text_vectorizer = TextVectorization(output_mode='int', output_sequence_length=100)\n",
    "text_vectorizer.adapt(crew_series.values)\n",
    "\n",
    "# Encode the 'crew' column\n",
    "crew_vectorized = text_vectorizer(crew_series.values)\n",
    "\n",
    "# Convert 'overview' column to a Pandas Series\n",
    "overview_series = df['overview'].fillna('')\n",
    "\n",
    "# Preprocess text data\n",
    "text_vectorizer = TextVectorization(output_mode='int', output_sequence_length=1000)\n",
    "text_vectorizer.adapt(overview_series.values)\n",
    "\n",
    "# Encode the 'overview' column\n",
    "overview_vectorized = text_vectorizer(overview_series.values)\n",
    "\n",
    "# # Convert 'orig_title' column to a Pandas Series\n",
    "# orig_title_series = df['orig_title'].fillna('')\n",
    "\n",
    "# # Preprocess text data\n",
    "# text_vectorizer = TextVectorization(output_mode='int', output_sequence_length=1000)\n",
    "# text_vectorizer.adapt(orig_title_series.values)\n",
    "\n",
    "# # Encode the 'orig_title' column\n",
    "# orig_title_vectorized = text_vectorizer(orig_title_series.values)\n",
    "\n",
    "# Combine the encoded 'crew' column with the numerical features\n",
    "features_encoded = np.concatenate([features_scaled, crew_vectorized, overview_vectorized], axis=1)\n",
    "\n",
    "# Reshape the features_encoded array\n",
    "features_encoded = np.expand_dims(features_encoded, axis=-1)"
   ]
  },
  {
   "cell_type": "code",
   "execution_count": 166,
   "metadata": {},
   "outputs": [],
   "source": [
    "# Split the dataset into training and testing sets\n",
    "X_train, X_test, y_train, y_test = train_test_split(features_encoded, target, test_size=0.2, random_state=42)"
   ]
  },
  {
   "cell_type": "code",
   "execution_count": 167,
   "metadata": {},
   "outputs": [],
   "source": [
    "# Build the CNN model\n",
    "model = tf.keras.Sequential([\n",
    "    layers.Conv1D(32, kernel_size=3, activation='relu', input_shape=(features_encoded.shape[1], 1)),\n",
    "    layers.MaxPooling1D(pool_size=2),\n",
    "    layers.Flatten(),\n",
    "    layers.Dense(64, activation='relu'),\n",
    "    layers.Dense(1)  # Output layer for regression\n",
    "])"
   ]
  },
  {
   "cell_type": "code",
   "execution_count": 168,
   "metadata": {},
   "outputs": [],
   "source": [
    "# Compile the model\n",
    "model.compile(loss='mean_squared_error', optimizer='adam')"
   ]
  },
  {
   "cell_type": "code",
   "execution_count": 169,
   "metadata": {},
   "outputs": [
    {
     "name": "stdout",
     "output_type": "stream",
     "text": [
      "Epoch 1/10\n",
      "255/255 [==============================] - 2s 6ms/step - loss: 9140.5107 - val_loss: 911.7723\n",
      "Epoch 2/10\n",
      "255/255 [==============================] - 1s 6ms/step - loss: 1054.0814 - val_loss: 619.2769\n",
      "Epoch 3/10\n",
      "255/255 [==============================] - 1s 6ms/step - loss: 375.6634 - val_loss: 266.2057\n",
      "Epoch 4/10\n",
      "255/255 [==============================] - 1s 6ms/step - loss: 259.2753 - val_loss: 310.5773\n",
      "Epoch 5/10\n",
      "255/255 [==============================] - 1s 6ms/step - loss: 230.6118 - val_loss: 208.1544\n",
      "Epoch 6/10\n",
      "255/255 [==============================] - 1s 6ms/step - loss: 219.2718 - val_loss: 219.1381\n",
      "Epoch 7/10\n",
      "255/255 [==============================] - 1s 6ms/step - loss: 211.6571 - val_loss: 200.3887\n",
      "Epoch 8/10\n",
      "255/255 [==============================] - 1s 6ms/step - loss: 201.8600 - val_loss: 200.4058\n",
      "Epoch 9/10\n",
      "255/255 [==============================] - 1s 6ms/step - loss: 196.4739 - val_loss: 203.9132\n",
      "Epoch 10/10\n",
      "255/255 [==============================] - 1s 6ms/step - loss: 195.9015 - val_loss: 201.8209\n"
     ]
    },
    {
     "data": {
      "text/plain": [
       "<keras.src.callbacks.History at 0x28f220f70>"
      ]
     },
     "execution_count": 169,
     "metadata": {},
     "output_type": "execute_result"
    }
   ],
   "source": [
    "# Train the model\n",
    "model.fit(X_train, y_train, epochs=10, batch_size=32, validation_data=(X_test, y_test))"
   ]
  },
  {
   "cell_type": "code",
   "execution_count": 170,
   "metadata": {},
   "outputs": [
    {
     "name": "stdout",
     "output_type": "stream",
     "text": [
      " 1/64 [..............................] - ETA: 0s - loss: 317.8849"
     ]
    },
    {
     "name": "stdout",
     "output_type": "stream",
     "text": [
      "64/64 [==============================] - 0s 2ms/step - loss: 201.8209\n",
      "Mean Squared Error: 201.82089233398438\n"
     ]
    }
   ],
   "source": [
    "# Evaluate the model\n",
    "mse = model.evaluate(X_test, y_test)\n",
    "\n",
    "# Mean Squared Error\n",
    "print('Mean Squared Error:', mse)"
   ]
  },
  {
   "cell_type": "code",
   "execution_count": 171,
   "metadata": {},
   "outputs": [
    {
     "name": "stdout",
     "output_type": "stream",
     "text": [
      "64/64 [==============================] - 0s 2ms/step\n",
      "Mean Squared Error: 221.41247476912787\n",
      "Root Mean Squared Error: 14.879935307961787\n",
      "Mean Absolute Error: 10.294869275928866\n"
     ]
    }
   ],
   "source": [
    "# Reshape the input data\n",
    "y_test = y_test.values.reshape(-1)\n",
    "\n",
    "# Evaluate the model on the reshaped data\n",
    "predictions = model.predict(X_test)\n",
    "mse = np.mean((predictions - y_test)**2)\n",
    "rmse = np.sqrt(mse)\n",
    "mae = np.mean(np.abs(predictions - y_test))\n",
    "\n",
    "print('Mean Squared Error:', mse)\n",
    "print('Root Mean Squared Error:', rmse)\n",
    "print('Mean Absolute Error:', mae)"
   ]
  }
 ],
 "metadata": {
  "kernelspec": {
   "display_name": "Python 3",
   "language": "python",
   "name": "python3"
  },
  "language_info": {
   "codemirror_mode": {
    "name": "ipython",
    "version": 3
   },
   "file_extension": ".py",
   "mimetype": "text/x-python",
   "name": "python",
   "nbconvert_exporter": "python",
   "pygments_lexer": "ipython3",
   "version": "3.9.6"
  },
  "orig_nbformat": 4
 },
 "nbformat": 4,
 "nbformat_minor": 2
}
